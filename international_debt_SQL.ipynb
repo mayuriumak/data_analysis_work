{
 "cells": [
  {
   "cell_type": "code",
   "execution_count": 1,
   "id": "05ca164c",
   "metadata": {},
   "outputs": [],
   "source": [
    "#IMPORT LIBRARIES\n",
    "import pandas as pd\n",
    "import sqlite3"
   ]
  },
  {
   "cell_type": "code",
   "execution_count": 2,
   "id": "fd3bec8f",
   "metadata": {},
   "outputs": [
    {
     "name": "stdout",
     "output_type": "stream",
     "text": [
      "Requirement already satisfied: ipython-sql in c:\\users\\hphp\\anaconda3\\lib\\site-packages (0.5.0)"
     ]
    },
    {
     "name": "stderr",
     "output_type": "stream",
     "text": [
      "WARNING: Ignoring invalid distribution -ytz (c:\\users\\hphp\\anaconda3\\lib\\site-packages)\n",
      "WARNING: Ignoring invalid distribution -ytz (c:\\users\\hphp\\anaconda3\\lib\\site-packages)\n",
      "WARNING: Ignoring invalid distribution -ytz (c:\\users\\hphp\\anaconda3\\lib\\site-packages)\n",
      "WARNING: Ignoring invalid distribution -ytz (c:\\users\\hphp\\anaconda3\\lib\\site-packages)\n",
      "WARNING: Ignoring invalid distribution -ytz (c:\\users\\hphp\\anaconda3\\lib\\site-packages)\n",
      "WARNING: Ignoring invalid distribution -ytz (c:\\users\\hphp\\anaconda3\\lib\\site-packages)\n"
     ]
    },
    {
     "name": "stdout",
     "output_type": "stream",
     "text": [
      "\n",
      "Requirement already satisfied: ipython-genutils in c:\\users\\hphp\\anaconda3\\lib\\site-packages (from ipython-sql) (0.2.0)\n",
      "Requirement already satisfied: sqlparse in c:\\users\\hphp\\anaconda3\\lib\\site-packages (from ipython-sql) (0.4.4)\n",
      "Requirement already satisfied: ipython in c:\\users\\hphp\\anaconda3\\lib\\site-packages (from ipython-sql) (8.2.0)\n",
      "Requirement already satisfied: six in c:\\users\\hphp\\anaconda3\\lib\\site-packages (from ipython-sql) (1.16.0)\n",
      "Requirement already satisfied: prettytable in c:\\users\\hphp\\anaconda3\\lib\\site-packages (from ipython-sql) (3.8.0)\n",
      "Requirement already satisfied: sqlalchemy>=2.0 in c:\\users\\hphp\\anaconda3\\lib\\site-packages (from ipython-sql) (2.0.19)\n",
      "Requirement already satisfied: greenlet!=0.4.17 in c:\\users\\hphp\\anaconda3\\lib\\site-packages (from sqlalchemy>=2.0->ipython-sql) (1.1.1)\n",
      "Requirement already satisfied: typing-extensions>=4.2.0 in c:\\users\\hphp\\anaconda3\\lib\\site-packages (from sqlalchemy>=2.0->ipython-sql) (4.5.0)\n",
      "Requirement already satisfied: setuptools>=18.5 in c:\\users\\hphp\\anaconda3\\lib\\site-packages (from ipython->ipython-sql) (61.2.0)\n",
      "Requirement already satisfied: matplotlib-inline in c:\\users\\hphp\\anaconda3\\lib\\site-packages (from ipython->ipython-sql) (0.1.2)\n",
      "Requirement already satisfied: traitlets>=5 in c:\\users\\hphp\\anaconda3\\lib\\site-packages (from ipython->ipython-sql) (5.1.1)\n",
      "Requirement already satisfied: stack-data in c:\\users\\hphp\\anaconda3\\lib\\site-packages (from ipython->ipython-sql) (0.2.0)\n",
      "Requirement already satisfied: decorator in c:\\users\\hphp\\anaconda3\\lib\\site-packages (from ipython->ipython-sql) (5.1.1)\n",
      "Requirement already satisfied: prompt-toolkit!=3.0.0,!=3.0.1,<3.1.0,>=2.0.0 in c:\\users\\hphp\\anaconda3\\lib\\site-packages (from ipython->ipython-sql) (3.0.20)\n",
      "Requirement already satisfied: pygments>=2.4.0 in c:\\users\\hphp\\anaconda3\\lib\\site-packages (from ipython->ipython-sql) (2.11.2)\n",
      "Requirement already satisfied: jedi>=0.16 in c:\\users\\hphp\\anaconda3\\lib\\site-packages (from ipython->ipython-sql) (0.18.1)\n",
      "Requirement already satisfied: backcall in c:\\users\\hphp\\anaconda3\\lib\\site-packages (from ipython->ipython-sql) (0.2.0)\n",
      "Requirement already satisfied: pickleshare in c:\\users\\hphp\\anaconda3\\lib\\site-packages (from ipython->ipython-sql) (0.7.5)\n",
      "Requirement already satisfied: colorama in c:\\users\\hphp\\anaconda3\\lib\\site-packages (from ipython->ipython-sql) (0.4.4)\n",
      "Requirement already satisfied: parso<0.9.0,>=0.8.0 in c:\\users\\hphp\\anaconda3\\lib\\site-packages (from jedi>=0.16->ipython->ipython-sql) (0.8.3)\n",
      "Requirement already satisfied: wcwidth in c:\\users\\hphp\\anaconda3\\lib\\site-packages (from prompt-toolkit!=3.0.0,!=3.0.1,<3.1.0,>=2.0.0->ipython->ipython-sql) (0.2.5)\n",
      "Requirement already satisfied: pure-eval in c:\\users\\hphp\\anaconda3\\lib\\site-packages (from stack-data->ipython->ipython-sql) (0.2.2)\n",
      "Requirement already satisfied: asttokens in c:\\users\\hphp\\anaconda3\\lib\\site-packages (from stack-data->ipython->ipython-sql) (2.0.5)\n",
      "Requirement already satisfied: executing in c:\\users\\hphp\\anaconda3\\lib\\site-packages (from stack-data->ipython->ipython-sql) (0.8.3)\n"
     ]
    }
   ],
   "source": [
    "#INSTALLING IPYTHON SQL LIBRARY\n",
    "!pip install ipython-sql"
   ]
  },
  {
   "cell_type": "code",
   "execution_count": 3,
   "id": "479a2097",
   "metadata": {},
   "outputs": [],
   "source": [
    "#CREATE CONNECTIONpip install ipython-sql\n",
    "cnn=sqlite3.connect(\"international_debt.db\")"
   ]
  },
  {
   "cell_type": "code",
   "execution_count": 4,
   "id": "6608c4ea",
   "metadata": {},
   "outputs": [],
   "source": [
    "df=pd.read_csv(\"international_debt.csv\")"
   ]
  },
  {
   "cell_type": "code",
   "execution_count": 6,
   "id": "f4c6003b",
   "metadata": {},
   "outputs": [
    {
     "data": {
      "text/plain": [
       "2357"
      ]
     },
     "execution_count": 6,
     "metadata": {},
     "output_type": "execute_result"
    }
   ],
   "source": [
    "df.to_sql(\"international_debt_ana\",cnn)"
   ]
  },
  {
   "cell_type": "code",
   "execution_count": 7,
   "id": "d774ea5c",
   "metadata": {},
   "outputs": [],
   "source": [
    "#LOAD SQL MODULE TO PYHTON\n",
    "%load_ext sql"
   ]
  },
  {
   "cell_type": "code",
   "execution_count": 8,
   "id": "a5d42f64",
   "metadata": {},
   "outputs": [],
   "source": [
    "%sql sqlite:///international_debt_ana.db"
   ]
  },
  {
   "cell_type": "markdown",
   "id": "5e600720",
   "metadata": {},
   "source": [
    "**1.UNDERSTAND THE DATA FIRST**"
   ]
  },
  {
   "cell_type": "code",
   "execution_count": 9,
   "id": "aea7027c",
   "metadata": {},
   "outputs": [
    {
     "name": "stdout",
     "output_type": "stream",
     "text": [
      " * sqlite:///international_debt_ana.db\n",
      "(sqlite3.OperationalError) no such table: international_debt_ana\n",
      "[SQL: SELECT * FROM international_debt_ana LIMIT 10]\n",
      "(Background on this error at: https://sqlalche.me/e/20/e3q8)\n"
     ]
    }
   ],
   "source": [
    "%%sql\n",
    "SELECT * FROM international_debt_ana LIMIT 10"
   ]
  },
  {
   "cell_type": "markdown",
   "id": "af233cdd",
   "metadata": {},
   "source": [
    "**2.Finding the number of distinct countries**\n",
    "\n",
    "From the first ten rows, we can see the amount of debt owed by Afghanistan in the different debt indicators. But we do not know the number of different countries we have on the table. There are repetitions in the country names because a country is most likely to have debt in more than one debt indicator.\n",
    "\n",
    "Without a count of unique countries, we will not be able to perform our statistical analyses holistically. In this section, we are going to extract the number of unique countries present in the table."
   ]
  },
  {
   "cell_type": "code",
   "execution_count": 10,
   "id": "9033d2ae",
   "metadata": {},
   "outputs": [
    {
     "name": "stdout",
     "output_type": "stream",
     "text": [
      " * sqlite:///international_debt_ana.db\n",
      "(sqlite3.OperationalError) no such table: international_debt_ana\n",
      "[SQL: SELECT COUNT(DISTINCT(country_name)) AS total_distinct_countries\n",
      "FROM international_debt_ana]\n",
      "(Background on this error at: https://sqlalche.me/e/20/e3q8)\n"
     ]
    }
   ],
   "source": [
    "%%sql\n",
    "SELECT COUNT(DISTINCT(country_name)) AS total_distinct_countries\n",
    "FROM international_debt_ana"
   ]
  },
  {
   "cell_type": "markdown",
   "id": "bd4bdaf1",
   "metadata": {},
   "source": [
    "**3.Finding out the distinct debt indicators**\n",
    "\n",
    "We can see there are a total of 124 countries present on the table. As we saw in the first section, there is a column called indicator_name that briefly specifies the purpose of taking the debt. Just beside that column, there is another column called indicator_code which symbolizes the category of these debts. Knowing about these various debt indicators will help us to understand the areas in which a country can possibly be indebted to."
   ]
  },
  {
   "cell_type": "code",
   "execution_count": 13,
   "id": "d318ad21",
   "metadata": {},
   "outputs": [
    {
     "name": "stdout",
     "output_type": "stream",
     "text": [
      " * sqlite:///international_debt_ana.db\n",
      "(sqlite3.OperationalError) no such table: international_debt_ana\n",
      "[SQL: SELECT DISTINCT indicator_code AS distinct_debt_indicators\n",
      "FROM international_debt_ana\n",
      "ORDER BY distinct_debt_indicators;]\n",
      "(Background on this error at: https://sqlalche.me/e/20/e3q8)\n"
     ]
    }
   ],
   "source": [
    "%%sql\n",
    "SELECT DISTINCT indicator_code AS distinct_debt_indicators\n",
    "FROM international_debt_ana\n",
    "ORDER BY distinct_debt_indicators;"
   ]
  },
  {
   "cell_type": "markdown",
   "id": "d4dac74a",
   "metadata": {},
   "source": [
    "**4. Totaling the amount of debt owed by the countries**\n",
    "\n",
    "As mentioned earlier, the financial debt of a particular country represents its economic state. But if we were to project this on an overall global scale, how will we approach it?\n",
    "\n",
    "Let's switch gears from the debt indicators now and find out the total amount of debt (in USD) that is owed by the different countries. This will give us a sense of how the overall economy of the entire world is holding up."
   ]
  },
  {
   "cell_type": "code",
   "execution_count": 19,
   "id": "27f754ab",
   "metadata": {},
   "outputs": [
    {
     "name": "stdout",
     "output_type": "stream",
     "text": [
      " * sqlite:///international_debt.db\n",
      "Done.\n"
     ]
    },
    {
     "data": {
      "text/html": [
       "<table>\n",
       "    <thead>\n",
       "        <tr>\n",
       "            <th>total_debt</th>\n",
       "        </tr>\n",
       "    </thead>\n",
       "    <tbody>\n",
       "        <tr>\n",
       "            <td>3079734.49</td>\n",
       "        </tr>\n",
       "    </tbody>\n",
       "</table>"
      ],
      "text/plain": [
       "[(3079734.49,)]"
      ]
     },
     "execution_count": 19,
     "metadata": {},
     "output_type": "execute_result"
    }
   ],
   "source": [
    "%%sql\n",
    "SELECT \n",
    "    ROUND(SUM(debt)/1000000, 2) AS total_debt\n",
    "FROM international_debt;"
   ]
  },
  {
   "cell_type": "markdown",
   "id": "1f8de643",
   "metadata": {},
   "source": [
    "**5. Country with the highest debt**\n",
    "\n",
    "\"Human beings cannot comprehend very large or very small numbers. It would be useful for us to acknowledge that fact.\" - Daniel Kahneman. That is more than 3 million million USD, an amount which is really hard for us to fathom.\n",
    "\n",
    "Now that we have the exact total of the amounts of debt owed by several countries, let's now find out the country that owns the highest amount of debt along with the amount. Note that this debt is the sum of different debts owed by a country across several categories. This will help to understand more about the country in terms of its socio-economic scenarios. We can also find out the category in which the country owns its highest debt. But we will leave that for now."
   ]
  },
  {
   "cell_type": "code",
   "execution_count": 20,
   "id": "ae5ef085",
   "metadata": {},
   "outputs": [
    {
     "name": "stdout",
     "output_type": "stream",
     "text": [
      " * sqlite:///international_debt.db\n",
      "Done.\n"
     ]
    },
    {
     "data": {
      "text/html": [
       "<table>\n",
       "    <thead>\n",
       "        <tr>\n",
       "            <th>country_name</th>\n",
       "            <th>total_debt</th>\n",
       "        </tr>\n",
       "    </thead>\n",
       "    <tbody>\n",
       "        <tr>\n",
       "            <td>China</td>\n",
       "            <td>285793494734.2</td>\n",
       "        </tr>\n",
       "    </tbody>\n",
       "</table>"
      ],
      "text/plain": [
       "[('China', 285793494734.2)]"
      ]
     },
     "execution_count": 20,
     "metadata": {},
     "output_type": "execute_result"
    }
   ],
   "source": [
    "%%sql\n",
    "SELECT \n",
    "    country_name, \n",
    "    SUM (debt) AS total_debt\n",
    "FROM international_debt\n",
    "GROUP BY country_name\n",
    "ORDER BY total_debt DESC\n",
    "LIMIT 1;"
   ]
  },
  {
   "cell_type": "markdown",
   "id": "4dd9437f",
   "metadata": {},
   "source": [
    "**6. Average amount of debt across indicators**\n",
    "\n",
    "So, it was China. A more in-depth breakdown of China's debts can be found here.\n",
    "\n",
    "We now have a brief overview of the dataset and a few of its summary statistics. We already have an idea of the different debt indicators in which the countries owe their debts. We can dig even further to find out on an average how much debt a country owes? This will give us a better sense of the distribution of the amount of debt across different indicators."
   ]
  },
  {
   "cell_type": "code",
   "execution_count": 21,
   "id": "7f818f10",
   "metadata": {},
   "outputs": [
    {
     "name": "stdout",
     "output_type": "stream",
     "text": [
      " * sqlite:///international_debt.db\n",
      "Done.\n"
     ]
    },
    {
     "data": {
      "text/html": [
       "<table>\n",
       "    <thead>\n",
       "        <tr>\n",
       "            <th>debt_indicator</th>\n",
       "            <th>indicator_name</th>\n",
       "            <th>average_debt</th>\n",
       "        </tr>\n",
       "    </thead>\n",
       "    <tbody>\n",
       "        <tr>\n",
       "            <td>DT.AMT.DLXF.CD</td>\n",
       "            <td>Principal repayments on external debt, long-term (AMT, current US$)</td>\n",
       "            <td>5904868401.499195</td>\n",
       "        </tr>\n",
       "        <tr>\n",
       "            <td>DT.AMT.DPNG.CD</td>\n",
       "            <td>Principal repayments on external debt, private nonguaranteed (PNG) (AMT, current US$)</td>\n",
       "            <td>5161194333.812659</td>\n",
       "        </tr>\n",
       "        <tr>\n",
       "            <td>DT.DIS.DLXF.CD</td>\n",
       "            <td>Disbursements on external debt, long-term (DIS, current US$)</td>\n",
       "            <td>2152041216.8902435</td>\n",
       "        </tr>\n",
       "        <tr>\n",
       "            <td>DT.DIS.OFFT.CD</td>\n",
       "            <td>PPG, official creditors (DIS, current US$)</td>\n",
       "            <td>1958983452.8598351</td>\n",
       "        </tr>\n",
       "        <tr>\n",
       "            <td>DT.AMT.PRVT.CD</td>\n",
       "            <td>PPG, private creditors (AMT, current US$)</td>\n",
       "            <td>1803694101.963265</td>\n",
       "        </tr>\n",
       "        <tr>\n",
       "            <td>DT.INT.DLXF.CD</td>\n",
       "            <td>Interest payments on external debt, long-term (INT, current US$)</td>\n",
       "            <td>1644024067.6508067</td>\n",
       "        </tr>\n",
       "        <tr>\n",
       "            <td>DT.DIS.BLAT.CD</td>\n",
       "            <td>PPG, bilateral (DIS, current US$)</td>\n",
       "            <td>1223139290.39823</td>\n",
       "        </tr>\n",
       "        <tr>\n",
       "            <td>DT.INT.DPNG.CD</td>\n",
       "            <td>Interest payments on external debt, private nonguaranteed (PNG) (INT, current US$)</td>\n",
       "            <td>1220410844.4215188</td>\n",
       "        </tr>\n",
       "        <tr>\n",
       "            <td>DT.AMT.OFFT.CD</td>\n",
       "            <td>PPG, official creditors (AMT, current US$)</td>\n",
       "            <td>1191187963.083064</td>\n",
       "        </tr>\n",
       "        <tr>\n",
       "            <td>DT.AMT.PBND.CD</td>\n",
       "            <td>PPG, bonds (AMT, current US$)</td>\n",
       "            <td>1082623947.6536236</td>\n",
       "        </tr>\n",
       "    </tbody>\n",
       "</table>"
      ],
      "text/plain": [
       "[('DT.AMT.DLXF.CD', 'Principal repayments on external debt, long-term (AMT, current US$)', 5904868401.499195),\n",
       " ('DT.AMT.DPNG.CD', 'Principal repayments on external debt, private nonguaranteed (PNG) (AMT, current US$)', 5161194333.812659),\n",
       " ('DT.DIS.DLXF.CD', 'Disbursements on external debt, long-term (DIS, current US$)', 2152041216.8902435),\n",
       " ('DT.DIS.OFFT.CD', 'PPG, official creditors (DIS, current US$)', 1958983452.8598351),\n",
       " ('DT.AMT.PRVT.CD', 'PPG, private creditors (AMT, current US$)', 1803694101.963265),\n",
       " ('DT.INT.DLXF.CD', 'Interest payments on external debt, long-term (INT, current US$)', 1644024067.6508067),\n",
       " ('DT.DIS.BLAT.CD', 'PPG, bilateral (DIS, current US$)', 1223139290.39823),\n",
       " ('DT.INT.DPNG.CD', 'Interest payments on external debt, private nonguaranteed (PNG) (INT, current US$)', 1220410844.4215188),\n",
       " ('DT.AMT.OFFT.CD', 'PPG, official creditors (AMT, current US$)', 1191187963.083064),\n",
       " ('DT.AMT.PBND.CD', 'PPG, bonds (AMT, current US$)', 1082623947.6536236)]"
      ]
     },
     "execution_count": 21,
     "metadata": {},
     "output_type": "execute_result"
    }
   ],
   "source": [
    "%%sql\n",
    "SELECT \n",
    "    indicator_code AS debt_indicator,\n",
    "    indicator_name,\n",
    "    AVG (debt) AS average_debt\n",
    "FROM international_debt\n",
    "GROUP BY 1,2\n",
    "ORDER BY 3 DESC\n",
    "LIMIT 10;"
   ]
  },
  {
   "cell_type": "markdown",
   "id": "4c852ac9",
   "metadata": {},
   "source": [
    "**7. The highest amount of principal repayments**\n",
    "\n",
    "We can see that the indicator DT.AMT.DLXF.CD tops the chart of average debt. This category includes repayment of long term debts. Countries take on long-term debt to acquire immediate capital. More information about this category can be found here.\n",
    "\n",
    "An interesting observation in the above finding is that there is a huge difference in the amounts of the indicators after the second one. This indicates that the first two indicators might be the most severe categories in which the countries owe their debts.\n",
    "\n",
    "We can investigate this a bit more so as to find out which country owes the highest amount of debt in the category of long term debts (DT.AMT.DLXF.CD). Since not all the countries suffer from the same kind of economic disturbances, this finding will allow us to understand that particular country's economic condition a bit more specifically."
   ]
  },
  {
   "cell_type": "code",
   "execution_count": 22,
   "id": "6f9836a2",
   "metadata": {},
   "outputs": [
    {
     "name": "stdout",
     "output_type": "stream",
     "text": [
      " * sqlite:///international_debt.db\n",
      "Done.\n"
     ]
    },
    {
     "data": {
      "text/html": [
       "<table>\n",
       "    <thead>\n",
       "        <tr>\n",
       "            <th>country_name</th>\n",
       "            <th>indicator_name</th>\n",
       "        </tr>\n",
       "    </thead>\n",
       "    <tbody>\n",
       "        <tr>\n",
       "            <td>China</td>\n",
       "            <td>Principal repayments on external debt, long-term (AMT, current US$)</td>\n",
       "        </tr>\n",
       "    </tbody>\n",
       "</table>"
      ],
      "text/plain": [
       "[('China', 'Principal repayments on external debt, long-term (AMT, current US$)')]"
      ]
     },
     "execution_count": 22,
     "metadata": {},
     "output_type": "execute_result"
    }
   ],
   "source": [
    "%%sql\n",
    "SELECT \n",
    "    country_name, \n",
    "    indicator_name\n",
    "FROM international_debt\n",
    "WHERE debt= (SELECT \n",
    "                 MAX(debt)\n",
    "             FROM international_debt\n",
    "             WHERE indicator_code ='DT.AMT.DLXF.CD');"
   ]
  },
  {
   "cell_type": "markdown",
   "id": "2680b6a8",
   "metadata": {},
   "source": [
    "**8. The most common debt indicator**\n",
    "\n",
    "China has the highest amount of debt in the long-term debt (DT.AMT.DLXF.CD) category. This is verified by The World Bank. It is often a good idea to verify our analyses like this since it validates that our investigations are correct.\n",
    "\n",
    "We saw that long-term debt is the topmost category when it comes to the average amount of debt. But is it the most common indicator in which the countries owe their debt? Let's find that out."
   ]
  },
  {
   "cell_type": "code",
   "execution_count": 23,
   "id": "02cb8bb0",
   "metadata": {},
   "outputs": [
    {
     "name": "stdout",
     "output_type": "stream",
     "text": [
      " * sqlite:///international_debt.db\n",
      "Done.\n"
     ]
    },
    {
     "data": {
      "text/html": [
       "<table>\n",
       "    <thead>\n",
       "        <tr>\n",
       "            <th>indicator_code</th>\n",
       "            <th>indicator_count</th>\n",
       "        </tr>\n",
       "    </thead>\n",
       "    <tbody>\n",
       "        <tr>\n",
       "            <td>DT.INT.OFFT.CD</td>\n",
       "            <td>124</td>\n",
       "        </tr>\n",
       "        <tr>\n",
       "            <td>DT.INT.MLAT.CD</td>\n",
       "            <td>124</td>\n",
       "        </tr>\n",
       "        <tr>\n",
       "            <td>DT.INT.DLXF.CD</td>\n",
       "            <td>124</td>\n",
       "        </tr>\n",
       "        <tr>\n",
       "            <td>DT.AMT.OFFT.CD</td>\n",
       "            <td>124</td>\n",
       "        </tr>\n",
       "        <tr>\n",
       "            <td>DT.AMT.MLAT.CD</td>\n",
       "            <td>124</td>\n",
       "        </tr>\n",
       "        <tr>\n",
       "            <td>DT.AMT.DLXF.CD</td>\n",
       "            <td>124</td>\n",
       "        </tr>\n",
       "        <tr>\n",
       "            <td>DT.DIS.DLXF.CD</td>\n",
       "            <td>123</td>\n",
       "        </tr>\n",
       "        <tr>\n",
       "            <td>DT.INT.BLAT.CD</td>\n",
       "            <td>122</td>\n",
       "        </tr>\n",
       "        <tr>\n",
       "            <td>DT.DIS.OFFT.CD</td>\n",
       "            <td>122</td>\n",
       "        </tr>\n",
       "        <tr>\n",
       "            <td>DT.AMT.BLAT.CD</td>\n",
       "            <td>122</td>\n",
       "        </tr>\n",
       "        <tr>\n",
       "            <td>DT.DIS.MLAT.CD</td>\n",
       "            <td>120</td>\n",
       "        </tr>\n",
       "        <tr>\n",
       "            <td>DT.DIS.BLAT.CD</td>\n",
       "            <td>113</td>\n",
       "        </tr>\n",
       "        <tr>\n",
       "            <td>DT.INT.PRVT.CD</td>\n",
       "            <td>98</td>\n",
       "        </tr>\n",
       "        <tr>\n",
       "            <td>DT.AMT.PRVT.CD</td>\n",
       "            <td>98</td>\n",
       "        </tr>\n",
       "        <tr>\n",
       "            <td>DT.INT.PCBK.CD</td>\n",
       "            <td>84</td>\n",
       "        </tr>\n",
       "        <tr>\n",
       "            <td>DT.AMT.PCBK.CD</td>\n",
       "            <td>84</td>\n",
       "        </tr>\n",
       "        <tr>\n",
       "            <td>DT.INT.DPNG.CD</td>\n",
       "            <td>79</td>\n",
       "        </tr>\n",
       "        <tr>\n",
       "            <td>DT.AMT.DPNG.CD</td>\n",
       "            <td>79</td>\n",
       "        </tr>\n",
       "        <tr>\n",
       "            <td>DT.INT.PBND.CD</td>\n",
       "            <td>69</td>\n",
       "        </tr>\n",
       "        <tr>\n",
       "            <td>DT.AMT.PBND.CD</td>\n",
       "            <td>69</td>\n",
       "        </tr>\n",
       "    </tbody>\n",
       "</table>"
      ],
      "text/plain": [
       "[('DT.INT.OFFT.CD', 124),\n",
       " ('DT.INT.MLAT.CD', 124),\n",
       " ('DT.INT.DLXF.CD', 124),\n",
       " ('DT.AMT.OFFT.CD', 124),\n",
       " ('DT.AMT.MLAT.CD', 124),\n",
       " ('DT.AMT.DLXF.CD', 124),\n",
       " ('DT.DIS.DLXF.CD', 123),\n",
       " ('DT.INT.BLAT.CD', 122),\n",
       " ('DT.DIS.OFFT.CD', 122),\n",
       " ('DT.AMT.BLAT.CD', 122),\n",
       " ('DT.DIS.MLAT.CD', 120),\n",
       " ('DT.DIS.BLAT.CD', 113),\n",
       " ('DT.INT.PRVT.CD', 98),\n",
       " ('DT.AMT.PRVT.CD', 98),\n",
       " ('DT.INT.PCBK.CD', 84),\n",
       " ('DT.AMT.PCBK.CD', 84),\n",
       " ('DT.INT.DPNG.CD', 79),\n",
       " ('DT.AMT.DPNG.CD', 79),\n",
       " ('DT.INT.PBND.CD', 69),\n",
       " ('DT.AMT.PBND.CD', 69)]"
      ]
     },
     "execution_count": 23,
     "metadata": {},
     "output_type": "execute_result"
    }
   ],
   "source": [
    "%%sql\n",
    "SELECT \n",
    "    indicator_code,\n",
    "    COUNT (indicator_code) AS indicator_count\n",
    "FROM international_debt\n",
    "GROUP BY indicator_code\n",
    "ORDER BY indicator_count DESC, indicator_code DESC\n",
    "LIMIT 20;"
   ]
  },
  {
   "cell_type": "markdown",
   "id": "23756e34",
   "metadata": {},
   "source": [
    "**9. Other viable debt issues and conclusion**\n",
    "\n",
    "There are a total of six debt indicators in which all the countries listed in our dataset have taken debt. The indicator DT.AMT.DLXF.CD is also there in the list. So, this gives us a clue that all these countries are suffering from a common economic issue. But that is not the end of the story, a part of the story rather.\n",
    "\n",
    "Let's change tracks from debt_indicators now and focus on the amount of debt again. Let's find out the maximum amount of debt across the indicators along with the respective country names. With this, we will be in a position to identify the other plausible economic issues a country might be going through. By the end of this section, we will have found out the debt indicators in which a country owes its highest debt.\n",
    "\n",
    "In this notebook, we took a look at debt owed by countries across the globe. We extracted a few summary statistics from the data and unraveled some interesting facts and figures. We also validated our findings to make sure the investigations are correct."
   ]
  },
  {
   "cell_type": "code",
   "execution_count": 24,
   "id": "4dd9b76b",
   "metadata": {},
   "outputs": [
    {
     "name": "stdout",
     "output_type": "stream",
     "text": [
      " * sqlite:///international_debt.db\n",
      "Done.\n"
     ]
    },
    {
     "data": {
      "text/html": [
       "<table>\n",
       "    <thead>\n",
       "        <tr>\n",
       "            <th>country_name</th>\n",
       "            <th>indicator_code</th>\n",
       "            <th>maximum_debt</th>\n",
       "        </tr>\n",
       "    </thead>\n",
       "    <tbody>\n",
       "        <tr>\n",
       "            <td>China</td>\n",
       "            <td>DT.AMT.DLXF.CD</td>\n",
       "            <td>96218620835.7</td>\n",
       "        </tr>\n",
       "        <tr>\n",
       "            <td>Brazil</td>\n",
       "            <td>DT.AMT.DLXF.CD</td>\n",
       "            <td>90041840304.1</td>\n",
       "        </tr>\n",
       "        <tr>\n",
       "            <td>China</td>\n",
       "            <td>DT.AMT.DPNG.CD</td>\n",
       "            <td>72392986213.8</td>\n",
       "        </tr>\n",
       "        <tr>\n",
       "            <td>Russian Federation</td>\n",
       "            <td>DT.AMT.DLXF.CD</td>\n",
       "            <td>66589761833.5</td>\n",
       "        </tr>\n",
       "        <tr>\n",
       "            <td>Turkey</td>\n",
       "            <td>DT.AMT.DLXF.CD</td>\n",
       "            <td>51555031005.8</td>\n",
       "        </tr>\n",
       "        <tr>\n",
       "            <td>South Asia</td>\n",
       "            <td>DT.AMT.DLXF.CD</td>\n",
       "            <td>48756295898.2</td>\n",
       "        </tr>\n",
       "        <tr>\n",
       "            <td>Brazil</td>\n",
       "            <td>DT.AMT.PRVT.CD</td>\n",
       "            <td>43598697498.6</td>\n",
       "        </tr>\n",
       "        <tr>\n",
       "            <td>Russian Federation</td>\n",
       "            <td>DT.AMT.DPNG.CD</td>\n",
       "            <td>42800154974.9</td>\n",
       "        </tr>\n",
       "        <tr>\n",
       "            <td>Brazil</td>\n",
       "            <td>DT.AMT.DPNG.CD</td>\n",
       "            <td>41831444053.3</td>\n",
       "        </tr>\n",
       "        <tr>\n",
       "            <td>Least developed countries: UN classification</td>\n",
       "            <td>DT.DIS.DLXF.CD</td>\n",
       "            <td>40160766261.6</td>\n",
       "        </tr>\n",
       "    </tbody>\n",
       "</table>"
      ],
      "text/plain": [
       "[('China', 'DT.AMT.DLXF.CD', 96218620835.7),\n",
       " ('Brazil', 'DT.AMT.DLXF.CD', 90041840304.1),\n",
       " ('China', 'DT.AMT.DPNG.CD', 72392986213.8),\n",
       " ('Russian Federation', 'DT.AMT.DLXF.CD', 66589761833.5),\n",
       " ('Turkey', 'DT.AMT.DLXF.CD', 51555031005.8),\n",
       " ('South Asia', 'DT.AMT.DLXF.CD', 48756295898.2),\n",
       " ('Brazil', 'DT.AMT.PRVT.CD', 43598697498.6),\n",
       " ('Russian Federation', 'DT.AMT.DPNG.CD', 42800154974.9),\n",
       " ('Brazil', 'DT.AMT.DPNG.CD', 41831444053.3),\n",
       " ('Least developed countries: UN classification', 'DT.DIS.DLXF.CD', 40160766261.6)]"
      ]
     },
     "execution_count": 24,
     "metadata": {},
     "output_type": "execute_result"
    }
   ],
   "source": [
    "%%sql\n",
    "SELECT \n",
    "    country_name, \n",
    "    indicator_code, \n",
    "    MAX (debt) AS maximum_debt\n",
    "FROM international_debt\n",
    "GROUP BY 1,2\n",
    "ORDER BY 3 DESC\n",
    "LIMIT 10;"
   ]
  },
  {
   "cell_type": "code",
   "execution_count": null,
   "id": "93b816c5",
   "metadata": {},
   "outputs": [],
   "source": []
  }
 ],
 "metadata": {
  "kernelspec": {
   "display_name": "Python 3 (ipykernel)",
   "language": "python",
   "name": "python3"
  },
  "language_info": {
   "codemirror_mode": {
    "name": "ipython",
    "version": 3
   },
   "file_extension": ".py",
   "mimetype": "text/x-python",
   "name": "python",
   "nbconvert_exporter": "python",
   "pygments_lexer": "ipython3",
   "version": "3.9.12"
  }
 },
 "nbformat": 4,
 "nbformat_minor": 5
}
